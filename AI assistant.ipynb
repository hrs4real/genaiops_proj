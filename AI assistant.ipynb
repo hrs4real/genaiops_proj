{
 "cells": [
  {
   "cell_type": "code",
   "execution_count": 12,
   "id": "6d299371",
   "metadata": {},
   "outputs": [],
   "source": [
    "file=open(\"gptkey.txt\",\"r\")"
   ]
  },
  {
   "cell_type": "code",
   "execution_count": 13,
   "id": "16446663",
   "metadata": {},
   "outputs": [],
   "source": [
    "mykey=file.read()"
   ]
  },
  {
   "cell_type": "code",
   "execution_count": 14,
   "id": "7486f1c0",
   "metadata": {},
   "outputs": [],
   "source": [
    "import openai\n",
    "import speech_recognition as sr\n",
    "import pyttsx3"
   ]
  },
  {
   "cell_type": "code",
   "execution_count": 15,
   "id": "2f7118c2",
   "metadata": {},
   "outputs": [],
   "source": [
    "openai.api_key=mykey\n",
    "engine = pyttsx3.init()\n",
    "engine.runAndWait()"
   ]
  },
  {
   "cell_type": "code",
   "execution_count": 22,
   "id": "a367cafb",
   "metadata": {},
   "outputs": [],
   "source": [
    "def speech_input():\n",
    " r= sr.Recognizer()\n",
    " with sr.Microphone() as source:\n",
    "    print(\"Listening..... Ask your question. \")\n",
    "    data=r.listen(source)\n",
    "    text=r.recognize_google(data)\n",
    "    print(\"Got it.....\"+text)\n",
    "    return text  "
   ]
  },
  {
   "cell_type": "code",
   "execution_count": null,
   "id": "5afa4330",
   "metadata": {},
   "outputs": [],
   "source": []
  },
  {
   "cell_type": "code",
   "execution_count": 23,
   "id": "3ebaa051",
   "metadata": {},
   "outputs": [],
   "source": [
    "#using normal mode\n",
    "def dvinci(myprompt):\n",
    "  response=openai.Completion.create(\n",
    "  model=\"text-davinci-003\" ,\n",
    "  prompt=myprompt ,\n",
    "  max_tokens=80 ,\n",
    "  temperature=1  \n",
    "  )\n",
    "  print(response.choices[0].text)"
   ]
  },
  {
   "cell_type": "code",
   "execution_count": 24,
   "id": "eecef0bc",
   "metadata": {},
   "outputs": [],
   "source": [
    "#using role mode\n",
    "def turbo1(myprompt):\n",
    "    response=openai.ChatCompletion.create(\n",
    "    model= \"gpt-3.5-turbo\" ,\n",
    "   messages=[\n",
    "        {\"role\": \"system\", \"content\": \"You are a helpful assistant.\"},\n",
    "        {\"role\": \"user\", \"content\": myprompt},\n",
    "    ],\n",
    "    temperature=1,   \n",
    "    max_tokens=50     \n",
    "    )\n",
    "    return (response.choices[0].message.content)"
   ]
  },
  {
   "cell_type": "code",
   "execution_count": null,
   "id": "684f4d6c",
   "metadata": {},
   "outputs": [],
   "source": []
  },
  {
   "cell_type": "code",
   "execution_count": 27,
   "id": "d29e8184",
   "metadata": {},
   "outputs": [
    {
     "name": "stdout",
     "output_type": "stream",
     "text": [
      "Enter 1 to write prompt or 2 for speech input or 3 for exit2\n",
      "Listening..... Ask your question. \n",
      "Got it.....how are you doing\n",
      "Enter 1 to write prompt or 2 for speech input or 3 for exit3\n",
      "Stopped\n"
     ]
    }
   ],
   "source": [
    "if __name__ == '__main__':\n",
    "    \n",
    "    while(True):\n",
    "      x= int(input(\"Enter 1 to write prompt or 2 for speech input or 3 for exit\"))  \n",
    "      if x==1:\n",
    "        prompt=input(\"Ask your question... \")\n",
    "        response= turbo1(prompt+\" in one line. \")\n",
    "        print(response)\n",
    "      elif x==2:\n",
    "        prompt=speech_input()\n",
    "        response= turbo1(prompt+\" in one line. \")\n",
    "        engine.say(response)\n",
    "        engine.runAndWait()\n",
    "      else:\n",
    "        print(\"Stopped...\")\n",
    "        break\n",
    "        "
   ]
  },
  {
   "cell_type": "code",
   "execution_count": null,
   "id": "e30366f7",
   "metadata": {},
   "outputs": [],
   "source": []
  },
  {
   "cell_type": "code",
   "execution_count": null,
   "id": "4f352b5f",
   "metadata": {},
   "outputs": [],
   "source": []
  }
 ],
 "metadata": {
  "kernelspec": {
   "display_name": "Python 3 (ipykernel)",
   "language": "python",
   "name": "python3"
  },
  "language_info": {
   "codemirror_mode": {
    "name": "ipython",
    "version": 3
   },
   "file_extension": ".py",
   "mimetype": "text/x-python",
   "name": "python",
   "nbconvert_exporter": "python",
   "pygments_lexer": "ipython3",
   "version": "3.10.9"
  }
 },
 "nbformat": 4,
 "nbformat_minor": 5
}
