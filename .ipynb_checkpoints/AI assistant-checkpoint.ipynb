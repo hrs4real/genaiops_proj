{
 "cells": [
  {
   "cell_type": "code",
   "execution_count": 59,
   "id": "6d299371",
   "metadata": {},
   "outputs": [],
   "source": [
    "file=open(\"gptkey.txt\",\"r\")"
   ]
  },
  {
   "cell_type": "code",
   "execution_count": 60,
   "id": "16446663",
   "metadata": {},
   "outputs": [],
   "source": [
    "mykey=file.read()"
   ]
  },
  {
   "cell_type": "code",
   "execution_count": 61,
   "id": "7486f1c0",
   "metadata": {},
   "outputs": [],
   "source": [
    "import openai\n",
    "import speech_recognition as sr\n",
    "import pyttsx3"
   ]
  },
  {
   "cell_type": "code",
   "execution_count": 62,
   "id": "2f7118c2",
   "metadata": {},
   "outputs": [],
   "source": [
    "openai.api_key=mykey\n",
    "engine = pyttsx3.init()\n",
    "engine.runAndWait()"
   ]
  },
  {
   "cell_type": "code",
   "execution_count": 73,
   "id": "a367cafb",
   "metadata": {},
   "outputs": [],
   "source": [
    "def speech_input():\n",
    " r= sr.Recognizer()\n",
    " with sr.Microphone() as source:\n",
    "    print(\"Listening..... Ask your question. \")\n",
    "    data=r.listen(source)\n",
    "    text=r.recognize_google(data)\n",
    "    print(\"Got it.....\"+text)\n",
    "    print(data)   "
   ]
  },
  {
   "cell_type": "code",
   "execution_count": 75,
   "id": "5afa4330",
   "metadata": {},
   "outputs": [
    {
     "name": "stdout",
     "output_type": "stream",
     "text": [
      "Listening..... Ask your question. \n",
      "Got it.....who are you who are you hey\n",
      "<speech_recognition.audio.AudioData object at 0x000002CE75AC34C0>\n"
     ]
    }
   ],
   "source": [
    "speech_input()"
   ]
  },
  {
   "cell_type": "code",
   "execution_count": 68,
   "id": "3ebaa051",
   "metadata": {},
   "outputs": [],
   "source": [
    "#using normal mode\n",
    "def dvinci(myprompt):\n",
    "  response=openai.Completion.create(\n",
    "  model=\"text-davinci-003\" ,\n",
    "  prompt=myprompt ,\n",
    "  max_tokens=80 ,\n",
    "  temperature=1  \n",
    "  )\n",
    "  print(response.choices[0].text)"
   ]
  },
  {
   "cell_type": "code",
   "execution_count": 69,
   "id": "eecef0bc",
   "metadata": {},
   "outputs": [],
   "source": [
    "#using role mode\n",
    "def turbo1(myprompt):\n",
    "    response=openai.ChatCompletion.create(\n",
    "    model= \"gpt-3.5-turbo\" ,\n",
    "   messages=[\n",
    "        {\"role\": \"system\", \"content\": \"You are a helpful assistant.\"},\n",
    "        {\"role\": \"user\", \"content\": myprompt},\n",
    "    ],\n",
    "    temperature=1,   \n",
    "    max_tokens=50     \n",
    "    )\n",
    "    return (response.choices[0].message.content)"
   ]
  },
  {
   "cell_type": "code",
   "execution_count": null,
   "id": "684f4d6c",
   "metadata": {},
   "outputs": [],
   "source": []
  },
  {
   "cell_type": "code",
   "execution_count": 70,
   "id": "d29e8184",
   "metadata": {},
   "outputs": [
    {
     "name": "stdout",
     "output_type": "stream",
     "text": [
      "Enter 1 to write prompt or 2 for speech input or 3 for exit2\n",
      "Listening..... Ask your question. \n",
      "Got it.....who are you\n"
     ]
    },
    {
     "ename": "TypeError",
     "evalue": "unsupported operand type(s) for +: 'AudioData' and 'str'",
     "output_type": "error",
     "traceback": [
      "\u001b[1;31m---------------------------------------------------------------------------\u001b[0m",
      "\u001b[1;31mTypeError\u001b[0m                                 Traceback (most recent call last)",
      "Cell \u001b[1;32mIn[70], line 11\u001b[0m\n\u001b[0;32m      9\u001b[0m \u001b[38;5;28;01melif\u001b[39;00m x\u001b[38;5;241m==\u001b[39m\u001b[38;5;241m2\u001b[39m:\n\u001b[0;32m     10\u001b[0m   prompt\u001b[38;5;241m=\u001b[39mspeech_input()\n\u001b[1;32m---> 11\u001b[0m   response\u001b[38;5;241m=\u001b[39m turbo(\u001b[43mprompt\u001b[49m\u001b[38;5;241;43m+\u001b[39;49m\u001b[38;5;124;43m\"\u001b[39;49m\u001b[38;5;124;43m in one line. \u001b[39;49m\u001b[38;5;124;43m\"\u001b[39;49m)\n\u001b[0;32m     12\u001b[0m   engine\u001b[38;5;241m.\u001b[39msay(response)\n\u001b[0;32m     13\u001b[0m   engine\u001b[38;5;241m.\u001b[39mrunAndWait()\n",
      "\u001b[1;31mTypeError\u001b[0m: unsupported operand type(s) for +: 'AudioData' and 'str'"
     ]
    }
   ],
   "source": [
    "if __name__ == '__main__':\n",
    "    \n",
    "    while(True):\n",
    "      x= int(input(\"Enter 1 to write prompt or 2 for speech input or 3 for exit\"))  \n",
    "      if x==1:\n",
    "        prompt=input(\"Ask your question... \")\n",
    "        response= turbo1(prompt+\" in one line. \")\n",
    "        print(response)\n",
    "      elif x==2:\n",
    "        prompt=speech_input()\n",
    "        response= turbo(prompt+\" in one line. \")\n",
    "        engine.say(response)\n",
    "        engine.runAndWait()\n",
    "      else:\n",
    "        print(\"Stopped\")\n",
    "        break\n",
    "        "
   ]
  },
  {
   "cell_type": "code",
   "execution_count": null,
   "id": "e30366f7",
   "metadata": {},
   "outputs": [],
   "source": []
  },
  {
   "cell_type": "code",
   "execution_count": null,
   "id": "4f352b5f",
   "metadata": {},
   "outputs": [],
   "source": []
  }
 ],
 "metadata": {
  "kernelspec": {
   "display_name": "Python 3 (ipykernel)",
   "language": "python",
   "name": "python3"
  },
  "language_info": {
   "codemirror_mode": {
    "name": "ipython",
    "version": 3
   },
   "file_extension": ".py",
   "mimetype": "text/x-python",
   "name": "python",
   "nbconvert_exporter": "python",
   "pygments_lexer": "ipython3",
   "version": "3.10.9"
  }
 },
 "nbformat": 4,
 "nbformat_minor": 5
}
