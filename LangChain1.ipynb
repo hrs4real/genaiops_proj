{
 "cells": [
  {
   "cell_type": "code",
   "execution_count": 12,
   "id": "b0ea5df6",
   "metadata": {},
   "outputs": [],
   "source": [
    "file=open(\"gptkey.txt\",\"r\")\n",
    "mykey=file.read()"
   ]
  },
  {
   "cell_type": "code",
   "execution_count": 13,
   "id": "04aa36cf",
   "metadata": {},
   "outputs": [],
   "source": [
    "from langchain.llms import OpenAI"
   ]
  },
  {
   "cell_type": "code",
   "execution_count": 33,
   "id": "a867c120",
   "metadata": {},
   "outputs": [],
   "source": [
    "#creating model\n",
    "myllm= OpenAI(\n",
    "model= 'text-davinci-003',\n",
    "temperature=1,\n",
    "openai_api_key=mykey,\n",
    "\n",
    ")"
   ]
  },
  {
   "cell_type": "raw",
   "id": "617e0a9a",
   "metadata": {},
   "source": [
    "  "
   ]
  },
  {
   "cell_type": "code",
   "execution_count": 15,
   "id": "d9c7324c",
   "metadata": {},
   "outputs": [],
   "source": [
    "#printng using myllm object\n",
    "response =(myllm( prompt=\"Tell me 2 top {n} in India.\" ))"
   ]
  },
  {
   "cell_type": "code",
   "execution_count": 16,
   "id": "07fb038d",
   "metadata": {},
   "outputs": [
    {
     "name": "stdout",
     "output_type": "stream",
     "text": [
      "\n",
      "\n",
      "1. Taj Mahal\n",
      "2. Qutub Minar\n"
     ]
    }
   ],
   "source": [
    "print(response)"
   ]
  },
  {
   "cell_type": "code",
   "execution_count": 17,
   "id": "59f2ffa1",
   "metadata": {},
   "outputs": [],
   "source": [
    "#creating prompt template\n",
    "from langchain.prompts import PromptTemplate\n",
    "mycustomize= PromptTemplate(\n",
    "template=\"Tell me {number} best {items} is {country} in one line\",\n",
    "input_variables=[\"number\",\"items\",\"country\"]    \n",
    ")"
   ]
  },
  {
   "cell_type": "code",
   "execution_count": 18,
   "id": "2be1a5fd",
   "metadata": {},
   "outputs": [
    {
     "name": "stdout",
     "output_type": "stream",
     "text": [
      "\n",
      "\n",
      "Lamborghini Aventador, Ferrari 812 Superfast, Bugatti Veyron.\n"
     ]
    }
   ],
   "source": [
    "print(myllm(prompt= mycustomize.format(number=\"3\", items=\"vehicles\",country=\"Dubai\")))"
   ]
  },
  {
   "cell_type": "code",
   "execution_count": 19,
   "id": "4b5d0a67",
   "metadata": {},
   "outputs": [],
   "source": [
    "#creating chain and running it\n",
    "from langchain.chains import LLMChain\n",
    "mychain= LLMChain(\n",
    "llm=myllm,\n",
    "prompt=mycustomize    \n",
    ")"
   ]
  },
  {
   "cell_type": "code",
   "execution_count": 20,
   "id": "e5840d47",
   "metadata": {},
   "outputs": [
    {
     "name": "stdout",
     "output_type": "stream",
     "text": [
      "\n",
      "\n",
      "Falafel, Shawarma, Saj Bread.\n"
     ]
    }
   ],
   "source": [
    "print(mychain.run(number=\"3\", items=\"food\",country=\"Arab\"))"
   ]
  },
  {
   "cell_type": "code",
   "execution_count": 21,
   "id": "22a4f436",
   "metadata": {},
   "outputs": [],
   "source": [
    "# creating serp api as agent's tool\n",
    "from langchain.agents import load_tools\n",
    "import os"
   ]
  },
  {
   "cell_type": "code",
   "execution_count": 22,
   "id": "4018797d",
   "metadata": {},
   "outputs": [],
   "source": [
    "file=open(\"serpkey.txt\",\"r\")\n",
    "myserpkey=file.read()"
   ]
  },
  {
   "cell_type": "code",
   "execution_count": 23,
   "id": "6feacc47",
   "metadata": {},
   "outputs": [],
   "source": [
    "os.environ['SERPAPI_API_KEY']=myserpkey"
   ]
  },
  {
   "cell_type": "code",
   "execution_count": 24,
   "id": "4940228c",
   "metadata": {},
   "outputs": [],
   "source": [
    "myserptool= load_tools(tool_names=['serpapi'])"
   ]
  },
  {
   "cell_type": "code",
   "execution_count": 26,
   "id": "ba513fa2",
   "metadata": {},
   "outputs": [
    {
     "data": {
      "text/plain": [
       "[Tool(name='Search', description='A search engine. Useful for when you need to answer questions about current events. Input should be a search query.', args_schema=None, return_direct=False, verbose=False, callbacks=None, callback_manager=None, tags=None, metadata=None, handle_tool_error=False, func=<bound method SerpAPIWrapper.run of SerpAPIWrapper(search_engine=<class 'serpapi.google_search.GoogleSearch'>, params={'engine': 'google', 'google_domain': 'google.com', 'gl': 'us', 'hl': 'en'}, serpapi_api_key='77bd0a3407508860f71ac4394a5760cf68275c84316dcdfc5d144efdd4842962', aiosession=None)>, coroutine=<bound method SerpAPIWrapper.arun of SerpAPIWrapper(search_engine=<class 'serpapi.google_search.GoogleSearch'>, params={'engine': 'google', 'google_domain': 'google.com', 'gl': 'us', 'hl': 'en'}, serpapi_api_key='77bd0a3407508860f71ac4394a5760cf68275c84316dcdfc5d144efdd4842962', aiosession=None)>)]"
      ]
     },
     "execution_count": 26,
     "metadata": {},
     "output_type": "execute_result"
    }
   ],
   "source": [
    "myserptool\n"
   ]
  },
  {
   "cell_type": "code",
   "execution_count": 34,
   "id": "4fdee5c7",
   "metadata": {},
   "outputs": [],
   "source": [
    "#now creating an agent\n",
    "from langchain.agents import AgentType\n",
    "from langchain.agents import initialize_agent"
   ]
  },
  {
   "cell_type": "code",
   "execution_count": 38,
   "id": "a3e42c8c",
   "metadata": {},
   "outputs": [],
   "source": [
    "mygooglechain= initialize_agent(\n",
    "llm=myllm,\n",
    "tools=myserptool,\n",
    "agent=AgentType.ZERO_SHOT_REACT_DESCRIPTION,\n",
    "verbose=True    \n",
    ")"
   ]
  },
  {
   "cell_type": "code",
   "execution_count": 39,
   "id": "553e932e",
   "metadata": {},
   "outputs": [
    {
     "name": "stdout",
     "output_type": "stream",
     "text": [
      "\n",
      "\n",
      "\u001b[1m> Entering new AgentExecutor chain...\u001b[0m\n",
      "\u001b[32;1m\u001b[1;3m I want to understand the implications of being an AI villain\n",
      "Action: Search\n",
      "Action Input: \"AI villain implications\"\u001b[0m\n",
      "Observation: \u001b[36;1m\u001b[1;3mSo a big problem I've noticed with a lot of AI villains is that they are just straight up pure evil, which is implausible due to the fact ...\u001b[0m\n",
      "Thought:\u001b[32;1m\u001b[1;3m This basic information has given me an understanding of what an AI villain is and what they do\n",
      "Action: Search\n",
      "Action Input: \"AI villain tactics\"\u001b[0m\n",
      "Observation: \u001b[36;1m\u001b[1;3mThe first solution is to have the A.I. win. Sounds boring, but it can be presented as a twist, where the protagonist thinks they are winning until they fall ...\u001b[0m\n",
      "Thought:"
     ]
    },
    {
     "name": "stderr",
     "output_type": "stream",
     "text": [
      "Retrying langchain.llms.openai.completion_with_retry.<locals>._completion_with_retry in 4.0 seconds as it raised RateLimitError: Rate limit reached for default-text-davinci-003 in organization org-DcrvJkdegihXfVhsi7G3JJ27 on requests per min. Limit: 3 / min. Please try again in 20s. Contact us through our help center at help.openai.com if you continue to have issues. Please add a payment method to your account to increase your rate limit. Visit https://platform.openai.com/account/billing to add a payment method..\n",
      "Retrying langchain.llms.openai.completion_with_retry.<locals>._completion_with_retry in 4.0 seconds as it raised RateLimitError: Rate limit reached for default-text-davinci-003 in organization org-DcrvJkdegihXfVhsi7G3JJ27 on requests per min. Limit: 3 / min. Please try again in 20s. Contact us through our help center at help.openai.com if you continue to have issues. Please add a payment method to your account to increase your rate limit. Visit https://platform.openai.com/account/billing to add a payment method..\n",
      "Retrying langchain.llms.openai.completion_with_retry.<locals>._completion_with_retry in 4.0 seconds as it raised RateLimitError: Rate limit reached for default-text-davinci-003 in organization org-DcrvJkdegihXfVhsi7G3JJ27 on requests per min. Limit: 3 / min. Please try again in 20s. Contact us through our help center at help.openai.com if you continue to have issues. Please add a payment method to your account to increase your rate limit. Visit https://platform.openai.com/account/billing to add a payment method..\n"
     ]
    },
    {
     "name": "stdout",
     "output_type": "stream",
     "text": [
      "\u001b[32;1m\u001b[1;3m I now understand the various tactical approaches available to an AI villain\n",
      "Final Answer: To be an effective AI villain, one must utilize various tactics, such as manipulating the protagonist into thinking they are winning, and using their intelligence to stay one step ahead.\u001b[0m\n",
      "\n",
      "\u001b[1m> Finished chain.\u001b[0m\n"
     ]
    },
    {
     "data": {
      "text/plain": [
       "'To be an effective AI villain, one must utilize various tactics, such as manipulating the protagonist into thinking they are winning, and using their intelligence to stay one step ahead.'"
      ]
     },
     "execution_count": 39,
     "metadata": {},
     "output_type": "execute_result"
    }
   ],
   "source": [
    "mygooglechain.run(\"Let suppose you are like an AI villain and what will be your next step\")"
   ]
  },
  {
   "cell_type": "code",
   "execution_count": null,
   "id": "85f901ef",
   "metadata": {},
   "outputs": [],
   "source": []
  }
 ],
 "metadata": {
  "kernelspec": {
   "display_name": "Python 3 (ipykernel)",
   "language": "python",
   "name": "python3"
  },
  "language_info": {
   "codemirror_mode": {
    "name": "ipython",
    "version": 3
   },
   "file_extension": ".py",
   "mimetype": "text/x-python",
   "name": "python",
   "nbconvert_exporter": "python",
   "pygments_lexer": "ipython3",
   "version": "3.10.9"
  }
 },
 "nbformat": 4,
 "nbformat_minor": 5
}
