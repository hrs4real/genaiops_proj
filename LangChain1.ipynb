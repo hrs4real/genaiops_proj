{
 "cells": [
  {
   "cell_type": "code",
   "execution_count": 18,
   "id": "b0ea5df6",
   "metadata": {},
   "outputs": [],
   "source": [
    "file=open(\"gptkey.txt\",\"r\")\n",
    "mykey=file.read()"
   ]
  },
  {
   "cell_type": "code",
   "execution_count": 19,
   "id": "04aa36cf",
   "metadata": {},
   "outputs": [],
   "source": [
    "from langchain.llms import OpenAI"
   ]
  },
  {
   "cell_type": "code",
   "execution_count": 20,
   "id": "a867c120",
   "metadata": {},
   "outputs": [],
   "source": [
    "#creating model\n",
    "myllm= OpenAI(\n",
    "model= 'text-davinci-003',\n",
    "temperature=1,\n",
    "openai_api_key=mykey,\n",
    "max_tokens=30    \n",
    ")"
   ]
  },
  {
   "cell_type": "raw",
   "id": "617e0a9a",
   "metadata": {},
   "source": [
    "  "
   ]
  },
  {
   "cell_type": "code",
   "execution_count": 28,
   "id": "d9c7324c",
   "metadata": {},
   "outputs": [],
   "source": [
    "#printng using myllm object\n",
    "response =(myllm( prompt=\"Tell me 2 top {n} in India.\" ))"
   ]
  },
  {
   "cell_type": "code",
   "execution_count": 29,
   "id": "07fb038d",
   "metadata": {},
   "outputs": [
    {
     "data": {
      "text/plain": [
       "'\\n\\n1. Taj Mahal\\n2. Golden Temple'"
      ]
     },
     "execution_count": 29,
     "metadata": {},
     "output_type": "execute_result"
    }
   ],
   "source": [
    "print(response)"
   ]
  },
  {
   "cell_type": "code",
   "execution_count": 36,
   "id": "59f2ffa1",
   "metadata": {},
   "outputs": [],
   "source": [
    "#creating prompt template\n",
    "from langchain.prompts import PromptTemplate\n",
    "mycustomize= PromptTemplate(\n",
    "template=\"Tell me {number} best {items} is {country} in one line\",\n",
    "input_variables=[\"number\",\"items\",\"country\"]    \n",
    ")"
   ]
  },
  {
   "cell_type": "code",
   "execution_count": 37,
   "id": "2be1a5fd",
   "metadata": {},
   "outputs": [
    {
     "name": "stdout",
     "output_type": "stream",
     "text": [
      "\n",
      "\n",
      "Rolls Royce Ghost, Lamborghini Aventador, Ferrari 488 GTB.\n"
     ]
    }
   ],
   "source": [
    "print(myllm(prompt= mycustomize.format(number=\"3\", items=\"vehicles\",country=\"Dubai\")))"
   ]
  },
  {
   "cell_type": "code",
   "execution_count": 38,
   "id": "4b5d0a67",
   "metadata": {},
   "outputs": [],
   "source": [
    "#creating chain and running it\n",
    "from langchain.chains import LLMChain\n",
    "mychain= LLMChain(\n",
    "llm=myllm,\n",
    "prompt=mycustomize    \n",
    ")"
   ]
  },
  {
   "cell_type": "code",
   "execution_count": 40,
   "id": "e5840d47",
   "metadata": {},
   "outputs": [
    {
     "name": "stdout",
     "output_type": "stream",
     "text": [
      "\n",
      "\n",
      "Kebabs, Hummus, Falafel.\n"
     ]
    }
   ],
   "source": [
    "print(mychain.run(number=\"3\", items=\"food\",country=\"Arab\"))"
   ]
  },
  {
   "cell_type": "code",
   "execution_count": 42,
   "id": "22a4f436",
   "metadata": {},
   "outputs": [],
   "source": [
    "# creating serp api as agent's tool\n",
    "from langchain.agents import load_tools\n",
    "import os"
   ]
  },
  {
   "cell_type": "code",
   "execution_count": 43,
   "id": "4018797d",
   "metadata": {},
   "outputs": [],
   "source": [
    "file=open(\"serpkey.txt\",\"r\")\n",
    "myserpkey=file.read()"
   ]
  },
  {
   "cell_type": "code",
   "execution_count": 44,
   "id": "6feacc47",
   "metadata": {},
   "outputs": [],
   "source": [
    "os.environ['SERPAPI_API_KEY']=myserpkey"
   ]
  },
  {
   "cell_type": "code",
   "execution_count": 55,
   "id": "4940228c",
   "metadata": {},
   "outputs": [],
   "source": [
    "myserptool= load_tools(tool_names=['serpapi'])"
   ]
  },
  {
   "cell_type": "code",
   "execution_count": 57,
   "id": "ba513fa2",
   "metadata": {},
   "outputs": [
    {
     "data": {
      "text/plain": [
       "[Tool(name='Search', description='A search engine. Useful for when you need to answer questions about current events. Input should be a search query.', args_schema=None, return_direct=False, verbose=False, callbacks=None, callback_manager=None, tags=None, metadata=None, handle_tool_error=False, func=<bound method SerpAPIWrapper.run of SerpAPIWrapper(search_engine=<class 'serpapi.google_search.GoogleSearch'>, params={'engine': 'google', 'google_domain': 'google.com', 'gl': 'us', 'hl': 'en'}, serpapi_api_key='77bd0a3407508860f71ac4394a5760cf68275c84316dcdfc5d144efdd4842962', aiosession=None)>, coroutine=<bound method SerpAPIWrapper.arun of SerpAPIWrapper(search_engine=<class 'serpapi.google_search.GoogleSearch'>, params={'engine': 'google', 'google_domain': 'google.com', 'gl': 'us', 'hl': 'en'}, serpapi_api_key='77bd0a3407508860f71ac4394a5760cf68275c84316dcdfc5d144efdd4842962', aiosession=None)>)]"
      ]
     },
     "execution_count": 57,
     "metadata": {},
     "output_type": "execute_result"
    }
   ],
   "source": [
    "myserptool"
   ]
  },
  {
   "cell_type": "code",
   "execution_count": 60,
   "id": "4fdee5c7",
   "metadata": {},
   "outputs": [],
   "source": [
    "#now creating an agent\n",
    "from langchain.agents import AgentType\n",
    "from langchain.agents import initialize_agent"
   ]
  },
  {
   "cell_type": "code",
   "execution_count": 61,
   "id": "a3e42c8c",
   "metadata": {},
   "outputs": [],
   "source": [
    "mygooglechain= initialize_agent(\n",
    "llm=myllm,\n",
    "tools=myserptool,\n",
    "agent=AgentType.ZERO_SHOT_REACT_DESCRIPTION,\n",
    "verbose=True    \n",
    ")"
   ]
  },
  {
   "cell_type": "code",
   "execution_count": 64,
   "id": "553e932e",
   "metadata": {},
   "outputs": [
    {
     "name": "stdout",
     "output_type": "stream",
     "text": [
      "\n",
      "\n",
      "\u001b[1m> Entering new AgentExecutor chain...\u001b[0m\n",
      "\u001b[32;1m\u001b[1;3m I could probably find an appropriate tool to use with either a search or a YouTube search\n",
      "Action: Search\n",
      "Action Input: \"YouTube search tool in\u001b[0m\n",
      "Observation: \u001b[36;1m\u001b[1;3mYouTube Keyword Tool · Generate thousands of relevant keyword ideas for your videos · Never run out of content ideas again. · Enter any broad topic into Keywords ...\u001b[0m\n",
      "Thought:\u001b[32;1m\u001b[1;3m I can use this tool to search for Youtube search tools in langchain\n",
      "Action: Search\n",
      "Action Input: \"Youtube search tool in Langchain\u001b[0m\n",
      "Observation: \u001b[36;1m\u001b[1;3mYouTubeSearchTool. This notebook shows how to use a tool to search YouTube. Adapted from https://github.com/venuv/langchain_yt_tools.\u001b[0m\n",
      "Thought:\u001b[32;1m\u001b[1;3m I now know the final answer\n",
      "Final Answer: YouTubeSearchTool is a tool that can be used to search YouTube using Langchain.\u001b[0m\n",
      "\n",
      "\u001b[1m> Finished chain.\u001b[0m\n"
     ]
    },
    {
     "data": {
      "text/plain": [
       "'YouTubeSearchTool is a tool that can be used to search YouTube using Langchain.'"
      ]
     },
     "execution_count": 64,
     "metadata": {},
     "output_type": "execute_result"
    }
   ],
   "source": [
    "mygooglechain.run(\"myserptool= load_tools(tool_names=['serpapi']) similar for youtube search tool in langchain\")"
   ]
  },
  {
   "cell_type": "code",
   "execution_count": null,
   "id": "85f901ef",
   "metadata": {},
   "outputs": [],
   "source": []
  }
 ],
 "metadata": {
  "kernelspec": {
   "display_name": "Python 3 (ipykernel)",
   "language": "python",
   "name": "python3"
  },
  "language_info": {
   "codemirror_mode": {
    "name": "ipython",
    "version": 3
   },
   "file_extension": ".py",
   "mimetype": "text/x-python",
   "name": "python",
   "nbconvert_exporter": "python",
   "pygments_lexer": "ipython3",
   "version": "3.10.9"
  }
 },
 "nbformat": 4,
 "nbformat_minor": 5
}
