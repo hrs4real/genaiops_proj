{
 "cells": [
  {
   "cell_type": "code",
   "execution_count": 47,
   "id": "04f1378b",
   "metadata": {},
   "outputs": [],
   "source": [
    "from langchain.document_loaders import TextLoader"
   ]
  },
  {
   "cell_type": "code",
   "execution_count": 55,
   "id": "1de78f70",
   "metadata": {},
   "outputs": [],
   "source": [
    "loader=TextLoader(file_path=\"mydata.txt\")"
   ]
  },
  {
   "cell_type": "code",
   "execution_count": 56,
   "id": "05439d6b",
   "metadata": {},
   "outputs": [],
   "source": [
    "document=loader.load()"
   ]
  },
  {
   "cell_type": "code",
   "execution_count": 57,
   "id": "62780ab5",
   "metadata": {},
   "outputs": [
    {
     "data": {
      "text/plain": [
       "[Document(page_content='Once upon a time in a small village, there lived a curious and adventurous boy named Oliver. With tousled hair and eyes filled with wonder, he spent his days exploring the vast fields and dense forests that surrounded his home. The village was nestled between rolling hills, and its charm was matched only by the beauty of the natural world that embraced it.\\n\\nOliver\\'s favorite spot was the old oak tree at the edge of the forest. It stood tall and wise, its branches extending like welcoming arms. One day, as he sat beneath its leafy canopy, a vibrant butterfly caught his attention. It fluttered gracefully, dancing on the gentle breeze, its colors a magnificent tapestry. Oliver was captivated.\\n\\nHe decided to follow the butterfly, not realizing how far it would lead him. Through meadows carpeted with wildflowers and across babbling brooks, he ventured deeper into the forest. He felt the thrill of discovery as he encountered hidden creatures and secret glades.\\n\\nAs the sun began to dip behind the horizon, Oliver realized he was lost. Panic surged, but he remembered the lessons of survival he\\'d learned from his father. He decided to stay put and make a fire with the skills he had picked up from the village elders. The crackling flames provided comfort in the darkening woods.\\n\\nIn the morning, he resumed his journey back, retracing his steps with determination. Hours passed, and just as hope was beginning to fade, he heard a familiar soundâ€”the cheerful laughter of his little sister, Lily. She had come to find him, guided by the butterfly he had followed the day before.\\n\\nTheir reunion was full of tears and joy. Oliver realized that sometimes, it\\'s the unexpected adventures that bring us closer to the people we cherish most. From that day forward, he never underestimated the power of curiosity, the beauty of nature, and the unbreakable bond between a brother and sister.\\n\\nOliver\\'s adventures continued, but he always made sure to keep a close eye on the sun\\'s position and the path back home. The village, the old oak tree, and the butterfly remained cherished parts of his life, reminding him of the importance of family, the wonder of exploration, and the lessons he\\'d learned from getting a little lost in the world.\\n\\nAs the years went by, Oliver\\'s reputation as an adventurous spirit spread throughout the village. He became known as the \"Explorer of the Hills,\" and his stories of daring escapades were a source of inspiration for the village children. They looked up to him with wide eyes, eager to embark on their own journeys of discovery.\\n\\nOliver\\'s love for exploration extended beyond the village borders. He studied maps, learned about distant lands, and dreamed of setting foot in places he had only read about in books. His insatiable curiosity drove him to seek knowledge, and he became a scholar, dedicating his days to learning about the world\\'s wonders.\\n\\nOne day, as he perused an ancient tome in the village library, he stumbled upon a map that depicted a mysterious island said to hold a hidden treasureâ€”a treasure rumored to grant the deepest desires of those who found it. Oliver\\'s heart raced with excitement. He knew he had to find this island.\\n\\nHe gathered a small crew, including his trusty sister Lily, who had grown into a wise and brave young woman. Together, they set sail, guided by the map\\'s cryptic clues. The journey was filled with challengesâ€”a tempestuous sea, treacherous reefs, and moments when it seemed the odds were against them. Yet, Oliver\\'s determination and the support of his crew pushed them forward.\\n\\nFinally, after weeks of sailing, they spotted a lush, uncharted island on the horizon. It was a place of breathtaking beauty, with vibrant flora and crystal-clear waters. As they explored the island, they encountered puzzles and trials that tested their wits, courage, and unity. Each challenge brought them closer to the treasure.\\n\\nAt the heart of the island, they found a hidden cave. Inside, illuminated by a soft, otherworldly glow, lay the treasureâ€”a simple, ancient-looking chest. With bated breath, Oliver opened it, and to his surprise, it contained not gold or jewels, but a mapâ€”an even more intricate map that revealed the wonders of the world, the beauty of diverse cultures, and the importance of connecting with people.\\n\\nThis new treasure was far more valuable than any material riches. It represented knowledge, understanding, and the realization that the true journey of life is one of learning, empathy, and shared experiences. Oliver and his crew returned to the village as changed individuals, eager to share the message of the treasure they had discovered. From that day on, Oliver continued to explore, not just the physical world, but the world of ideas, cultures, and human connection. He became a storyteller, passing on the tales of his adventures and the lessons he had learned. And in the heart of the village, the old oak tree stood as a reminder of the curious boy who had grown into a wise and compassionate man, inspiring generations to come to embrace the world with open arms and an insatiable thirst for knowledge.', metadata={'source': 'mydata.txt'})]"
      ]
     },
     "execution_count": 57,
     "metadata": {},
     "output_type": "execute_result"
    }
   ],
   "source": [
    "document"
   ]
  },
  {
   "cell_type": "code",
   "execution_count": 58,
   "id": "1e7e26be",
   "metadata": {},
   "outputs": [],
   "source": [
    "from langchain.text_splitter import CharacterTextSplitter"
   ]
  },
  {
   "cell_type": "code",
   "execution_count": 59,
   "id": "98b0989c",
   "metadata": {},
   "outputs": [],
   "source": [
    "textChunk=CharacterTextSplitter(chunk_size=600)"
   ]
  },
  {
   "cell_type": "code",
   "execution_count": 60,
   "id": "0366dc0b",
   "metadata": {},
   "outputs": [],
   "source": [
    "texts= textChunk.split_documents(document)"
   ]
  },
  {
   "cell_type": "code",
   "execution_count": 61,
   "id": "76b6f0be",
   "metadata": {},
   "outputs": [
    {
     "data": {
      "text/plain": [
       "13"
      ]
     },
     "execution_count": 61,
     "metadata": {},
     "output_type": "execute_result"
    }
   ],
   "source": [
    "len(texts)"
   ]
  },
  {
   "cell_type": "code",
   "execution_count": 62,
   "id": "feba570a",
   "metadata": {},
   "outputs": [],
   "source": [
    "file=open(\"gptkey.txt\",\"r\")\n",
    "mykey=file.read()"
   ]
  },
  {
   "cell_type": "code",
   "execution_count": 63,
   "id": "65f9e239",
   "metadata": {},
   "outputs": [],
   "source": [
    "from langchain.embeddings import OpenAIEmbeddings"
   ]
  },
  {
   "cell_type": "code",
   "execution_count": 64,
   "id": "83a02583",
   "metadata": {},
   "outputs": [],
   "source": [
    "myembedmodel=OpenAIEmbeddings(openai_api_key=mykey)"
   ]
  },
  {
   "cell_type": "code",
   "execution_count": null,
   "id": "7e8074aa",
   "metadata": {},
   "outputs": [],
   "source": []
  },
  {
   "cell_type": "code",
   "execution_count": 66,
   "id": "fe02f343",
   "metadata": {},
   "outputs": [],
   "source": [
    "file=open(\"pineconekey.txt\",\"r\")\n",
    "mypineconekey=file.read()"
   ]
  },
  {
   "cell_type": "code",
   "execution_count": 67,
   "id": "55ed429b",
   "metadata": {},
   "outputs": [],
   "source": [
    "from langchain.vectorstores import Pinecone\n",
    "import pinecone"
   ]
  },
  {
   "cell_type": "code",
   "execution_count": 68,
   "id": "5e7dcd76",
   "metadata": {},
   "outputs": [],
   "source": [
    "pinecone.init(\n",
    "api_key=mypineconekey,\n",
    "environment='gcp-starter'\n",
    ")"
   ]
  },
  {
   "cell_type": "code",
   "execution_count": 69,
   "id": "c0358a09",
   "metadata": {},
   "outputs": [],
   "source": [
    "dosearch= Pinecone.from_documents(\n",
    "documents=texts,\n",
    "    embedding=myembedmodel,\n",
    "    index_name=\"myindex\",\n",
    ")"
   ]
  },
  {
   "cell_type": "code",
   "execution_count": 70,
   "id": "15d0503a",
   "metadata": {},
   "outputs": [],
   "source": [
    "file=open(\"gptkey.txt\",\"r\")\n",
    "mygptkey=file.read()\n"
   ]
  },
  {
   "cell_type": "code",
   "execution_count": 71,
   "id": "a19c9474",
   "metadata": {},
   "outputs": [],
   "source": [
    "from langchain.llms import OpenAI"
   ]
  },
  {
   "cell_type": "code",
   "execution_count": 72,
   "id": "b95ed23d",
   "metadata": {},
   "outputs": [],
   "source": [
    "import os\n",
    "from langchain.chains import RetrievalQA\n",
    "os.environ['OPENAI_API_KEY']=mygptkey"
   ]
  },
  {
   "cell_type": "code",
   "execution_count": 73,
   "id": "fb925428",
   "metadata": {},
   "outputs": [],
   "source": [
    "qa= RetrievalQA.from_chain_type(\n",
    "    llm=OpenAI(),\n",
    "    chain_type=\"stuff\",\n",
    "    retriever=dosearch.as_retriever()\n",
    ")"
   ]
  },
  {
   "cell_type": "code",
   "execution_count": 74,
   "id": "fa3c5478",
   "metadata": {},
   "outputs": [
    {
     "data": {
      "text/plain": [
       "{'query': 'What is the name of boy?', 'result': \" The boy's name is Oliver.\"}"
      ]
     },
     "execution_count": 74,
     "metadata": {},
     "output_type": "execute_result"
    }
   ],
   "source": [
    "qa({\"query\":\"What is the name of boy?\"})"
   ]
  },
  {
   "cell_type": "code",
   "execution_count": null,
   "id": "6dc51a70",
   "metadata": {},
   "outputs": [],
   "source": []
  }
 ],
 "metadata": {
  "kernelspec": {
   "display_name": "Python 3 (ipykernel)",
   "language": "python",
   "name": "python3"
  },
  "language_info": {
   "codemirror_mode": {
    "name": "ipython",
    "version": 3
   },
   "file_extension": ".py",
   "mimetype": "text/x-python",
   "name": "python",
   "nbconvert_exporter": "python",
   "pygments_lexer": "ipython3",
   "version": "3.10.9"
  }
 },
 "nbformat": 4,
 "nbformat_minor": 5
}
